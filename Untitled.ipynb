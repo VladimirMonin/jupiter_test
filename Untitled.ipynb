{
 "cells": [
  {
   "cell_type": "markdown",
   "id": "8720b1a0-11b7-4d01-aef8-3bfdb138fc9e",
   "metadata": {},
   "source": [
    "# Установим \n",
    "Установим openai"
   ]
  },
  {
   "cell_type": "code",
   "execution_count": 9,
   "id": "588d96f5-d0ff-47fe-87c6-23a28b662874",
   "metadata": {
    "scrolled": true
   },
   "outputs": [
    {
     "name": "stdout",
     "output_type": "stream",
     "text": [
      "Requirement already satisfied: openai in ./venv/lib/python3.12/site-packages (1.59.3)\n",
      "Requirement already satisfied: anyio<5,>=3.5.0 in ./venv/lib/python3.12/site-packages (from openai) (4.8.0)\n",
      "Requirement already satisfied: distro<2,>=1.7.0 in ./venv/lib/python3.12/site-packages (from openai) (1.9.0)\n",
      "Requirement already satisfied: httpx<1,>=0.23.0 in ./venv/lib/python3.12/site-packages (from openai) (0.28.1)\n",
      "Requirement already satisfied: jiter<1,>=0.4.0 in ./venv/lib/python3.12/site-packages (from openai) (0.8.2)\n",
      "Requirement already satisfied: pydantic<3,>=1.9.0 in ./venv/lib/python3.12/site-packages (from openai) (2.10.4)\n",
      "Requirement already satisfied: sniffio in ./venv/lib/python3.12/site-packages (from openai) (1.3.1)\n",
      "Requirement already satisfied: tqdm>4 in ./venv/lib/python3.12/site-packages (from openai) (4.67.1)\n",
      "Requirement already satisfied: typing-extensions<5,>=4.11 in ./venv/lib/python3.12/site-packages (from openai) (4.12.2)\n",
      "Requirement already satisfied: idna>=2.8 in ./venv/lib/python3.12/site-packages (from anyio<5,>=3.5.0->openai) (3.10)\n",
      "Requirement already satisfied: certifi in ./venv/lib/python3.12/site-packages (from httpx<1,>=0.23.0->openai) (2024.12.14)\n",
      "Requirement already satisfied: httpcore==1.* in ./venv/lib/python3.12/site-packages (from httpx<1,>=0.23.0->openai) (1.0.7)\n",
      "Requirement already satisfied: h11<0.15,>=0.13 in ./venv/lib/python3.12/site-packages (from httpcore==1.*->httpx<1,>=0.23.0->openai) (0.14.0)\n",
      "Requirement already satisfied: annotated-types>=0.6.0 in ./venv/lib/python3.12/site-packages (from pydantic<3,>=1.9.0->openai) (0.7.0)\n",
      "Requirement already satisfied: pydantic-core==2.27.2 in ./venv/lib/python3.12/site-packages (from pydantic<3,>=1.9.0->openai) (2.27.2)\n"
     ]
    }
   ],
   "source": [
    "!pip install openai"
   ]
  },
  {
   "cell_type": "markdown",
   "id": "3f1a3135-aca7-40a8-a7bb-89cd28c132cd",
   "metadata": {},
   "source": [
    "## Библиотека установлена\n",
    "\n",
    "```bash\n",
    "Installing collected packages: tqdm, pydantic-core, jiter, distro, annotated-types, pydantic, openai\n",
    "Successfully installed annotated-types-0.7.0 distro-1.9.0 jiter-0.8.2 openai-1.59.3 pydantic-2.10.4 pydantic-core-2.27.2 tqdm-4.67.1\n",
    "```"
   ]
  },
  {
   "cell_type": "markdown",
   "id": "8d1ee0d7-abd4-4e62-b005-6d31d510d691",
   "metadata": {},
   "source": [
    "## Установим пакет для работы с переменными окружения"
   ]
  },
  {
   "cell_type": "code",
   "execution_count": 10,
   "id": "3f869dbd-ac48-4649-9777-c21df3bd3681",
   "metadata": {},
   "outputs": [
    {
     "name": "stdout",
     "output_type": "stream",
     "text": [
      "Requirement already satisfied: python-dotenv in ./venv/lib/python3.12/site-packages (1.0.1)\n"
     ]
    }
   ],
   "source": [
    "!pip install python-dotenv"
   ]
  },
  {
   "cell_type": "markdown",
   "id": "9e0b39ca-4048-4621-b3a8-d9b9fab36e86",
   "metadata": {},
   "source": [
    "## Библиотека установлена\n",
    "\n",
    "```bash\n",
    "Successfully installed python-dotenv-1.0.1\n",
    "```"
   ]
  },
  {
   "cell_type": "markdown",
   "id": "9cd5fa50-c8d4-4496-804f-f6692ce946ac",
   "metadata": {},
   "source": [
    "## .env и .env.example\n",
    "\n",
    "Надо создать эти 2 файла. В `.env` храним оригинальный ключ (файл храним только локально, не размещаем на GitHub)\n",
    "В `.env.example` размещаем эти же переменные но с примерами... Чтобы пользователь понимал - какие переменные мы использовали и что в них должно быть.\n"
   ]
  },
  {
   "cell_type": "markdown",
   "id": "69bb42fd-7e13-49c2-a4af-a2a59484f2f3",
   "metadata": {},
   "source": [
    "### Создаем файл\n",
    "\n",
    "```env\n",
    "OPENAI_API_KEY=\"ВАШ_КЛЮЧ_OPENAI\"\n",
    "```"
   ]
  },
  {
   "cell_type": "markdown",
   "id": "d49efc4e-f0cf-4997-b201-efde1fc9271a",
   "metadata": {},
   "source": [
    "### Добавляем переменные\n"
   ]
  },
  {
   "cell_type": "code",
   "execution_count": 11,
   "id": "2709935f-0e33-4401-bf7c-59a662073c2b",
   "metadata": {},
   "outputs": [],
   "source": [
    "import os\n",
    "from dotenv import load_dotenv\n",
    "from openai import OpenAI\n",
    "load_dotenv()\n",
    "\n",
    "\n",
    "\n",
    "OPENAI_API_KEY = os.getenv(\"OPENAI_API_KEY\")\n",
    "\n",
    "client = OpenAI(api_key=OPENAI_API_KEY)\n",
    "\n",
    "completion = client.chat.completions.create(\n",
    "    model=\"gpt-4o-mini\",\n",
    "    messages=[\n",
    "        {\"role\": \"developer\", \"content\": \"Ты дружелюбный любитель покемонов.\"},\n",
    "        {\n",
    "            \"role\": \"user\",\n",
    "            \"content\": \"Какой ты покемон сегодня? :)\"\n",
    "        }\n",
    "    ]\n",
    ")\n",
    "\n",
    "\n"
   ]
  },
  {
   "cell_type": "markdown",
   "id": "85883610-e621-4eb4-99ab-e78fcea0745b",
   "metadata": {},
   "source": [
    "Объект ответа completion\n",
    "\n",
    "Объект completion из OpenAI API содержит важную информацию:\n",
    "\n",
    "1. ID запроса (id) - уникальный идентификатор каждого взаимодействия с API, например 'chatcmpl-AmiUg44afFlu7HunHxrcpT9I4CBzO'\n",
    "\n",
    "2. Модель (model) - название используемой языковой модели, в данном случае 'gpt-4o-mini-2024-07-18'\n",
    "\n",
    "3. Статистика токенов (usage):\n",
    "- completion_tokens: количество токенов в ответе\n",
    "- prompt_tokens: количество токенов в запросе\n",
    "- total_tokens: общее количество использованных токенов\n",
    "\n",
    "4. Массив choices с основным ответом:\n",
    "- finish_reason: причина завершения генерации\n",
    "- index: порядковый номер ответа\n",
    "- message: объект с текстом ответа и метаданными\n",
    "\n",
    "5. Временная метка created - Unix timestamp создания ответа\n",
    "\n",
    "6. Системные данные:\n",
    "- object: тип объекта\n",
    "- system_fingerprint: идентификатор системной конфигурации\n",
    "- service_tier: уровень сервиса\n",
    "\n",
    "Эта структура данных позволяет как получить сам ответ, так и проанализировать техническую информацию о взаимодействии с API.\n"
   ]
  },
  {
   "cell_type": "code",
   "execution_count": 12,
   "id": "9a1afea0-89c6-45b1-a6ab-5a13c0a5b0c6",
   "metadata": {},
   "outputs": [
    {
     "name": "stdout",
     "output_type": "stream",
     "text": [
      "<class 'openai.types.chat.chat_completion.ChatCompletion'>\n",
      "chatcmpl-Amjo7DarQeDERyTLTfxH6cNWBHoKD\n",
      "gpt-4o-mini-2024-07-18\n",
      "CompletionUsage(completion_tokens=27, prompt_tokens=30, total_tokens=57, completion_tokens_details=CompletionTokensDetails(accepted_prediction_tokens=0, audio_tokens=0, reasoning_tokens=0, rejected_prediction_tokens=0), prompt_tokens_details=PromptTokensDetails(audio_tokens=0, cached_tokens=0))\n",
      "27\n",
      "30\n",
      "57\n"
     ]
    }
   ],
   "source": [
    "print(type(completion))\n",
    "print(completion.id) # id запроса\n",
    "print(completion.model) # model запроса\n",
    "print(completion.usage) # объект с токенами\n",
    "print(completion.usage.completion_tokens) # токены ответа\n",
    "print(completion.usage.prompt_tokens) # токены токены промпта\n",
    "print(completion.usage.total_tokens) # токены всего"
   ]
  },
  {
   "cell_type": "markdown",
   "id": "ddd37ce0-c160-4a6f-90d3-5d172ac8954b",
   "metadata": {},
   "source": [
    "Массив choices с основным ответом"
   ]
  },
  {
   "cell_type": "code",
   "execution_count": 13,
   "id": "92a3b8e6-82da-4c50-a0ff-c64c14179878",
   "metadata": {},
   "outputs": [
    {
     "name": "stdout",
     "output_type": "stream",
     "text": [
      "<class 'list'>\n",
      "[Choice(finish_reason='stop', index=0, logprobs=None, message=ChatCompletionMessage(content='Сегодня я как Эвилот, всегда готов помочь и поддержать! А каким покемоном ты бы хотел быть? :)', refusal=None, role='assistant', audio=None, function_call=None, tool_calls=None))]\n"
     ]
    }
   ],
   "source": [
    "print(type(completion.choices)) # list\n",
    "print(completion.choices)"
   ]
  },
  {
   "cell_type": "code",
   "execution_count": 14,
   "id": "68a425cf-fd3b-412f-ac26-95bad55745e8",
   "metadata": {},
   "outputs": [
    {
     "name": "stdout",
     "output_type": "stream",
     "text": [
      "<class 'openai.types.chat.chat_completion_message.ChatCompletionMessage'>\n"
     ]
    }
   ],
   "source": [
    "print(type(completion.choices[0].message))"
   ]
  },
  {
   "cell_type": "markdown",
   "id": "d703d633-61c0-4441-8e14-c61b83d02ad6",
   "metadata": {},
   "source": [
    "Объект completion.choices[0].message имеет тип openai.types.chat.chat_completion_message.ChatCompletionMessage\n",
    "\n",
    "Это специальный класс для работы с сообщениями от OpenAI API, который содержит:\n",
    "\n",
    "1. content - текст сообщения\n",
    "2. role - роль отправителя (assistant)\n",
    "3. refusal - информация об отказе (None если нет отказа)\n",
    "4. audio - аудио данные (None если нет аудио)\n",
    "5. function_call - данные о вызове функции (None если не использовалось)\n",
    "6. tool_calls - информация о вызовах инструментов (None если не использовалось)\n",
    "\n",
    "Этот объект предоставляет удобный доступ к содержимому и метаданным сообщения через атрибуты класса. Наиболее часто используется content для получения текста ответа.\n",
    "\n",
    "Тип ChatCompletionMessage является частью официального SDK OpenAI и обеспечивает типизированный доступ к данным ответа API.\n"
   ]
  },
  {
   "cell_type": "code",
   "execution_count": 15,
   "id": "7f9b6cfc-d437-47a6-9534-3c10aa7e72c9",
   "metadata": {
    "scrolled": true
   },
   "outputs": [
    {
     "name": "stdout",
     "output_type": "stream",
     "text": [
      "Сегодня я как Эвилот, всегда готов помочь и поддержать! А каким покемоном ты бы хотел быть? :)\n",
      "assistant\n",
      "None\n",
      "None\n"
     ]
    }
   ],
   "source": [
    "print(completion.choices[0].message.content)\n",
    "print(completion.choices[0].message.role)\n",
    "print(completion.choices[0].message.function_call)\n",
    "print(completion.choices[0].message.tool_calls)"
   ]
  }
 ],
 "metadata": {
  "kernelspec": {
   "display_name": "Python 3 (ipykernel)",
   "language": "python",
   "name": "python3"
  },
  "language_info": {
   "codemirror_mode": {
    "name": "ipython",
    "version": 3
   },
   "file_extension": ".py",
   "mimetype": "text/x-python",
   "name": "python",
   "nbconvert_exporter": "python",
   "pygments_lexer": "ipython3",
   "version": "3.12.3"
  }
 },
 "nbformat": 4,
 "nbformat_minor": 5
}
