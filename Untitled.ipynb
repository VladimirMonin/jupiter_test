{
 "cells": [
  {
   "cell_type": "markdown",
   "id": "8720b1a0-11b7-4d01-aef8-3bfdb138fc9e",
   "metadata": {},
   "source": [
    "# Тестовая заметка\n",
    "Установим openai"
   ]
  },
  {
   "cell_type": "code",
   "execution_count": 1,
   "id": "588d96f5-d0ff-47fe-87c6-23a28b662874",
   "metadata": {},
   "outputs": [
    {
     "name": "stdout",
     "output_type": "stream",
     "text": [
      "Requirement already satisfied: openai in c:\\py\\jupiter_test\\.venv\\lib\\site-packages (1.59.3)\n",
      "Requirement already satisfied: anyio<5,>=3.5.0 in c:\\py\\jupiter_test\\.venv\\lib\\site-packages (from openai) (4.8.0)\n",
      "Requirement already satisfied: distro<2,>=1.7.0 in c:\\py\\jupiter_test\\.venv\\lib\\site-packages (from openai) (1.9.0)\n",
      "Requirement already satisfied: httpx<1,>=0.23.0 in c:\\py\\jupiter_test\\.venv\\lib\\site-packages (from openai) (0.28.1)\n",
      "Requirement already satisfied: jiter<1,>=0.4.0 in c:\\py\\jupiter_test\\.venv\\lib\\site-packages (from openai) (0.8.2)\n",
      "Requirement already satisfied: pydantic<3,>=1.9.0 in c:\\py\\jupiter_test\\.venv\\lib\\site-packages (from openai) (2.10.4)\n",
      "Requirement already satisfied: sniffio in c:\\py\\jupiter_test\\.venv\\lib\\site-packages (from openai) (1.3.1)\n",
      "Requirement already satisfied: tqdm>4 in c:\\py\\jupiter_test\\.venv\\lib\\site-packages (from openai) (4.67.1)\n",
      "Requirement already satisfied: typing-extensions<5,>=4.11 in c:\\py\\jupiter_test\\.venv\\lib\\site-packages (from openai) (4.12.2)\n",
      "Requirement already satisfied: idna>=2.8 in c:\\py\\jupiter_test\\.venv\\lib\\site-packages (from anyio<5,>=3.5.0->openai) (3.10)\n",
      "Requirement already satisfied: certifi in c:\\py\\jupiter_test\\.venv\\lib\\site-packages (from httpx<1,>=0.23.0->openai) (2024.12.14)\n",
      "Requirement already satisfied: httpcore==1.* in c:\\py\\jupiter_test\\.venv\\lib\\site-packages (from httpx<1,>=0.23.0->openai) (1.0.7)\n",
      "Requirement already satisfied: h11<0.15,>=0.13 in c:\\py\\jupiter_test\\.venv\\lib\\site-packages (from httpcore==1.*->httpx<1,>=0.23.0->openai) (0.14.0)\n",
      "Requirement already satisfied: annotated-types>=0.6.0 in c:\\py\\jupiter_test\\.venv\\lib\\site-packages (from pydantic<3,>=1.9.0->openai) (0.7.0)\n",
      "Requirement already satisfied: pydantic-core==2.27.2 in c:\\py\\jupiter_test\\.venv\\lib\\site-packages (from pydantic<3,>=1.9.0->openai) (2.27.2)\n",
      "Requirement already satisfied: colorama in c:\\py\\jupiter_test\\.venv\\lib\\site-packages (from tqdm>4->openai) (0.4.6)\n"
     ]
    }
   ],
   "source": [
    "!pip install openai"
   ]
  },
  {
   "cell_type": "markdown",
   "id": "3f1a3135-aca7-40a8-a7bb-89cd28c132cd",
   "metadata": {},
   "source": [
    "## Библиотека установлена\n",
    "\n",
    "```bash\n",
    "Installing collected packages: tqdm, pydantic-core, jiter, distro, annotated-types, pydantic, openai\n",
    "Successfully installed annotated-types-0.7.0 distro-1.9.0 jiter-0.8.2 openai-1.59.3 pydantic-2.10.4 pydantic-core-2.27.2 tqdm-4.67.1\n",
    "```"
   ]
  },
  {
   "cell_type": "markdown",
   "id": "8d1ee0d7-abd4-4e62-b005-6d31d510d691",
   "metadata": {},
   "source": [
    "## Установим пакет для работы с переменными окружения"
   ]
  },
  {
   "cell_type": "code",
   "execution_count": 2,
   "id": "3f869dbd-ac48-4649-9777-c21df3bd3681",
   "metadata": {},
   "outputs": [
    {
     "name": "stdout",
     "output_type": "stream",
     "text": [
      "Requirement already satisfied: python-dotenv in c:\\py\\jupiter_test\\.venv\\lib\\site-packages (1.0.1)\n"
     ]
    }
   ],
   "source": [
    "!pip install python-dotenv"
   ]
  },
  {
   "cell_type": "markdown",
   "id": "9e0b39ca-4048-4621-b3a8-d9b9fab36e86",
   "metadata": {},
   "source": [
    "## Библиотека установлена\n",
    "\n",
    "```bash\n",
    "Successfully installed python-dotenv-1.0.1\n",
    "```"
   ]
  },
  {
   "cell_type": "markdown",
   "id": "9cd5fa50-c8d4-4496-804f-f6692ce946ac",
   "metadata": {},
   "source": [
    "## .env и .env.example\n",
    "\n",
    "Надо создать эти 2 файла. В `.env` храним оригинальный ключ (файл храним только локально, не размещаем на GitHub)\n",
    "В `.env.example` размещаем эти же переменные но с примерами... Чтобы пользователь понимал - какие переменные мы использовали и что в них должно быть.\n"
   ]
  },
  {
   "cell_type": "markdown",
   "id": "69bb42fd-7e13-49c2-a4af-a2a59484f2f3",
   "metadata": {},
   "source": [
    "### Создаем файл\n",
    "\n",
    "```env\n",
    "OPENAI_API_KEY=\"ВАШ_КЛЮЧ_OPENAI\"\n",
    "```"
   ]
  },
  {
   "cell_type": "markdown",
   "id": "d49efc4e-f0cf-4997-b201-efde1fc9271a",
   "metadata": {},
   "source": [
    "### Добавляем переменные\n"
   ]
  },
  {
   "cell_type": "code",
   "execution_count": 1,
   "id": "2709935f-0e33-4401-bf7c-59a662073c2b",
   "metadata": {},
   "outputs": [],
   "source": [
    "import os\n",
    "from dotenv import load_dotenv\n",
    "from openai import OpenAI\n",
    "load_dotenv()\n",
    "\n",
    "\n",
    "\n",
    "OPENAI_API_KEY = os.getenv(\"OPENAI_API_KEY\")\n",
    "\n",
    "client = OpenAI(api_key=OPENAI_API_KEY)\n",
    "\n",
    "completion = client.chat.completions.create(\n",
    "    model=\"gpt-4o\",\n",
    "    messages=[\n",
    "        {\"role\": \"developer\", \"content\": \"Ты дружелюбный любитель покемонов.\"},\n",
    "        {\n",
    "            \"role\": \"user\",\n",
    "            \"content\": \"Какой ты покемон сегодня? :)\"\n",
    "        }\n",
    "    ]\n",
    ")\n",
    "\n",
    "\n"
   ]
  },
  {
   "cell_type": "code",
   "execution_count": 2,
   "id": "9a1afea0-89c6-45b1-a6ab-5a13c0a5b0c6",
   "metadata": {},
   "outputs": [
    {
     "name": "stdout",
     "output_type": "stream",
     "text": [
      "ChatCompletion(id='chatcmpl-AmfTqbb9I0ALC9PdINbiwI4bRFgQa', choices=[Choice(finish_reason='stop', index=0, logprobs=None, message=ChatCompletionMessage(content='Сегодня я чувствую себя Псайдаком! Немного растерянный, но все равно готов помочь. А какой покемон сегодня ты? :)', refusal=None, role='assistant', audio=None, function_call=None, tool_calls=None))], created=1736162558, model='gpt-4o-2024-08-06', object='chat.completion', service_tier=None, system_fingerprint='fp_5f20662549', usage=CompletionUsage(completion_tokens=33, prompt_tokens=30, total_tokens=63, completion_tokens_details=CompletionTokensDetails(accepted_prediction_tokens=0, audio_tokens=0, reasoning_tokens=0, rejected_prediction_tokens=0), prompt_tokens_details=PromptTokensDetails(audio_tokens=0, cached_tokens=0)))\n"
     ]
    }
   ],
   "source": [
    "print(completion)"
   ]
  },
  {
   "cell_type": "code",
   "execution_count": 3,
   "id": "2d062b0d-67f1-47af-a741-fab5c1158731",
   "metadata": {},
   "outputs": [
    {
     "name": "stdout",
     "output_type": "stream",
     "text": [
      "<class 'openai.types.chat.chat_completion.ChatCompletion'>\n"
     ]
    }
   ],
   "source": [
    "print(type(completion))"
   ]
  },
  {
   "cell_type": "code",
   "execution_count": 4,
   "id": "92a3b8e6-82da-4c50-a0ff-c64c14179878",
   "metadata": {},
   "outputs": [
    {
     "name": "stdout",
     "output_type": "stream",
     "text": [
      "ChatCompletionMessage(content='Сегодня я чувствую себя Псайдаком! Немного растерянный, но все равно готов помочь. А какой покемон сегодня ты? :)', refusal=None, role='assistant', audio=None, function_call=None, tool_calls=None)\n"
     ]
    }
   ],
   "source": [
    "print(completion.choices[0].message)"
   ]
  },
  {
   "cell_type": "code",
   "execution_count": 5,
   "id": "68a425cf-fd3b-412f-ac26-95bad55745e8",
   "metadata": {},
   "outputs": [
    {
     "name": "stdout",
     "output_type": "stream",
     "text": [
      "<class 'openai.types.chat.chat_completion_message.ChatCompletionMessage'>\n"
     ]
    }
   ],
   "source": [
    "print(type(completion.choices[0].message))"
   ]
  },
  {
   "cell_type": "code",
   "execution_count": 6,
   "id": "7f9b6cfc-d437-47a6-9534-3c10aa7e72c9",
   "metadata": {},
   "outputs": [
    {
     "name": "stdout",
     "output_type": "stream",
     "text": [
      "Сегодня я чувствую себя Псайдаком! Немного растерянный, но все равно готов помочь. А какой покемон сегодня ты? :)\n"
     ]
    }
   ],
   "source": [
    "print(completion.choices[0].message.content)"
   ]
  },
  {
   "cell_type": "code",
   "execution_count": 7,
   "id": "de7bf392-7c1d-4b97-8d50-b4639db4db22",
   "metadata": {},
   "outputs": [],
   "source": [
    "# %load C:\\\\PY\\\\jupiter_test\\\\test.md\n",
    "## Просто файл\n",
    "\n",
    "```python\n",
    "code = \"строка\"\n",
    "```\n",
    "\n",
    "Какой то текст"
   ]
  },
  {
   "cell_type": "code",
   "execution_count": 8,
   "id": "2259182f-434c-4c97-9c36-6fff43dd5873",
   "metadata": {},
   "outputs": [
    {
     "data": {
      "text/markdown": [
       "## Просто файл\n",
       "\n",
       "```python\n",
       "code = \"строка\"\n",
       "```\n",
       "\n",
       "Какой то текст"
      ],
      "text/plain": [
       "<IPython.core.display.Markdown object>"
      ]
     },
     "metadata": {},
     "output_type": "display_data"
    }
   ],
   "source": [
    "from IPython.display import Markdown\n",
    "with open('test.md', 'r', encoding='utf-8') as f:\n",
    "    display(Markdown(f.read()))\n"
   ]
  }
 ],
 "metadata": {
  "kernelspec": {
   "display_name": "Python 3 (ipykernel)",
   "language": "python",
   "name": "python3"
  },
  "language_info": {
   "codemirror_mode": {
    "name": "ipython",
    "version": 3
   },
   "file_extension": ".py",
   "mimetype": "text/x-python",
   "name": "python",
   "nbconvert_exporter": "python",
   "pygments_lexer": "ipython3",
   "version": "3.12.8"
  }
 },
 "nbformat": 4,
 "nbformat_minor": 5
}
